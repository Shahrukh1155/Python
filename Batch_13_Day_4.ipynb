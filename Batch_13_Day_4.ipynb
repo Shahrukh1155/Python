{
 "cells": [
  {
   "cell_type": "code",
   "execution_count": 1,
   "metadata": {},
   "outputs": [],
   "source": [
    "# List is mutable data type\n",
    "#List is collection of Item in a Particular Order"
   ]
  },
  {
   "cell_type": "code",
   "execution_count": 5,
   "metadata": {},
   "outputs": [
    {
     "name": "stdout",
     "output_type": "stream",
     "text": [
      "['Meena', 'Ram', 'rohit', 'Arun']\n"
     ]
    },
    {
     "data": {
      "text/plain": [
       "list"
      ]
     },
     "execution_count": 5,
     "metadata": {},
     "output_type": "execute_result"
    }
   ],
   "source": [
    "Students=['Meena','Ram','rohit','Arun']\n",
    "print(Students)\n",
    "type(Students)"
   ]
  },
  {
   "cell_type": "code",
   "execution_count": 8,
   "metadata": {},
   "outputs": [
    {
     "name": "stdout",
     "output_type": "stream",
     "text": [
      "Arun\n",
      "Meena\n",
      "Ram\n"
     ]
    }
   ],
   "source": [
    "#Indexing of List\n",
    "#Indexing Number starts with zero\n",
    "print(Students[3])\n",
    "print(Students[0])\n",
    "print(Students[1])\n"
   ]
  },
  {
   "cell_type": "code",
   "execution_count": 13,
   "metadata": {},
   "outputs": [
    {
     "name": "stdout",
     "output_type": "stream",
     "text": [
      "Ram\n",
      "Arun\n",
      "ARUN\n",
      "arun\n"
     ]
    }
   ],
   "source": [
    "#Negative Indexing\n",
    "#Index Number starts with 1 and from Right to Left is the order\n",
    "print(Students[-3])\n",
    "print(Students[3].title())\n",
    "print(Students[3].upper())\n",
    "print(Students[3].lower())"
   ]
  },
  {
   "cell_type": "code",
   "execution_count": 16,
   "metadata": {},
   "outputs": [
    {
     "name": "stdout",
     "output_type": "stream",
     "text": [
      "['shahrukh', 'rakesh', 'owen', 'rahul', 'manish']\n"
     ]
    }
   ],
   "source": [
    "#Adding & Subtracting Elements from String\n",
    "Friends=['shahrukh','rakesh','owen','rahul','manish']\n",
    "print(Friends)"
   ]
  },
  {
   "cell_type": "code",
   "execution_count": 20,
   "metadata": {},
   "outputs": [
    {
     "name": "stdout",
     "output_type": "stream",
     "text": [
      "['shahrukh', 'rakesh', 'mohit', 'rahul', 'manish']\n"
     ]
    }
   ],
   "source": [
    "#Replacing Element  with new element\n",
    "Friends[2]='mohit'\n",
    "print(Friends)"
   ]
  },
  {
   "cell_type": "code",
   "execution_count": 22,
   "metadata": {},
   "outputs": [
    {
     "name": "stdout",
     "output_type": "stream",
     "text": [
      "['shahrukh', 'rakesh', 'mohit', 'rahul', 'manish', 'aaliya', 'aaliya']\n"
     ]
    }
   ],
   "source": [
    "#Adding element to end of the list\n",
    "Friends.append('aaliya')\n",
    "print(Friends)"
   ]
  },
  {
   "cell_type": "code",
   "execution_count": 23,
   "metadata": {},
   "outputs": [
    {
     "name": "stdout",
     "output_type": "stream",
     "text": [
      "['shahrukh', 'rakesh', 'mohit', 'Madhuri', 'rahul', 'manish', 'aaliya', 'aaliya']\n"
     ]
    }
   ],
   "source": [
    "#adding Element in Between\n",
    "Friends.insert(3,'Madhuri')\n",
    "print(Friends)"
   ]
  },
  {
   "cell_type": "code",
   "execution_count": 27,
   "metadata": {},
   "outputs": [
    {
     "name": "stdout",
     "output_type": "stream",
     "text": [
      "['shahrukh', 'mohit', 'Madhuri', 'rahul', 'manish', 'aaliya']\n"
     ]
    }
   ],
   "source": [
    "#To Remove Element from List\n",
    "Friends.remove('aaliya')#removing by value\n",
    "print(Friends)\n"
   ]
  },
  {
   "cell_type": "code",
   "execution_count": 28,
   "metadata": {},
   "outputs": [
    {
     "name": "stdout",
     "output_type": "stream",
     "text": [
      "['shahrukh', 'mohit', 'Madhuri', 'manish', 'aaliya']\n"
     ]
    }
   ],
   "source": [
    "Friends.pop(3)#Removing by Index number\n",
    "print(Friends)"
   ]
  },
  {
   "cell_type": "code",
   "execution_count": 29,
   "metadata": {},
   "outputs": [
    {
     "name": "stdout",
     "output_type": "stream",
     "text": [
      "['shahrukh', 'aaliya']\n"
     ]
    }
   ],
   "source": [
    "del Friends[1:4]#Removing Range of indices\n",
    "print(Friends)"
   ]
  },
  {
   "cell_type": "code",
   "execution_count": null,
   "metadata": {},
   "outputs": [],
   "source": [
    "#Remove-Removes the first Matching Value from the List\n",
    "#pop-removes element based on index number,hence is fastest\n",
    "#del-same as pop but can also be used for removing range of indices"
   ]
  }
 ],
 "metadata": {
  "kernelspec": {
   "display_name": "Python 3",
   "language": "python",
   "name": "python3"
  },
  "language_info": {
   "codemirror_mode": {
    "name": "ipython",
    "version": 3
   },
   "file_extension": ".py",
   "mimetype": "text/x-python",
   "name": "python",
   "nbconvert_exporter": "python",
   "pygments_lexer": "ipython3",
   "version": "3.7.3"
  }
 },
 "nbformat": 4,
 "nbformat_minor": 2
}
